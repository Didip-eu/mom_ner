{
 "cells": [
  {
   "cell_type": "markdown",
   "source": [
    "## Usage example of spacy NER model finetuned on 1.000 mon_ner abstracts"
   ],
   "metadata": {}
  },
  {
   "cell_type": "markdown",
   "source": [
    "This is a short overview of how to use a specific spacy model (in this case NER tok2vec model)"
   ],
   "metadata": {}
  },
  {
   "cell_type": "code",
   "execution_count": 1,
   "source": [
    "import spacy"
   ],
   "outputs": [
    {
     "output_type": "stream",
     "name": "stderr",
     "text": [
      "2021-09-07 15:52:55.240128: I tensorflow/stream_executor/platform/default/dso_loader.cc:53] Successfully opened dynamic library libcudart.so.11.0\n"
     ]
    }
   ],
   "metadata": {}
  },
  {
   "cell_type": "markdown",
   "source": [
    "Path to spacy model (in this case toc2vec) trained on 900 mon_ner abstracts "
   ],
   "metadata": {}
  },
  {
   "cell_type": "code",
   "execution_count": 3,
   "source": [
    "path = \"../models/model-ner_spacy_varvara_20210804\""
   ],
   "outputs": [],
   "metadata": {}
  },
  {
   "cell_type": "markdown",
   "source": [
    "Load this trained spacy model"
   ],
   "metadata": {}
  },
  {
   "cell_type": "code",
   "execution_count": 4,
   "source": [
    "nlp = spacy.load(path)"
   ],
   "outputs": [],
   "metadata": {}
  },
  {
   "cell_type": "markdown",
   "source": [
    "Example of an abstract"
   ],
   "metadata": {}
  },
  {
   "cell_type": "code",
   "execution_count": 5,
   "source": [
    "abstr = \"P.Leo III.schreibt an die Bischöfe Bayerns,\\\n",
    "dass er auf ihre Bitte den Bischof Arn von Sahburg \\\n",
    "zum Erzbischof der bayrischen Kirchenprovinz bestellt und ihm das Pallium verliehen habe.\""
   ],
   "outputs": [],
   "metadata": {}
  },
  {
   "cell_type": "markdown",
   "source": [
    "Apply the NER model to this abstract"
   ],
   "metadata": {}
  },
  {
   "cell_type": "code",
   "execution_count": 6,
   "source": [
    "doc = nlp(abstr)"
   ],
   "outputs": [],
   "metadata": {}
  },
  {
   "cell_type": "markdown",
   "source": [
    "Function that returns named entitities contained in a given abstract"
   ],
   "metadata": {}
  },
  {
   "cell_type": "code",
   "execution_count": 7,
   "source": [
    "def show_ents(doc):\n",
    "    if doc.ents:\n",
    "        for ent in doc.ents:\n",
    "            print(\n",
    "                ent.text + \" - \" + ent.label_ + \" - \" + str(spacy.explain(ent.label_))\n",
    "            )\n",
    "    else:\n",
    "        print(\"no entities found\")"
   ],
   "outputs": [],
   "metadata": {}
  },
  {
   "cell_type": "markdown",
   "source": [
    "Call function show_ents for the given abstract to show named entities that were detected by the model"
   ],
   "metadata": {}
  },
  {
   "cell_type": "code",
   "execution_count": 8,
   "source": [
    "show_ents(doc)"
   ],
   "outputs": [
    {
     "output_type": "stream",
     "name": "stdout",
     "text": [
      "P.Leo - PER - Named person or family.\n",
      "Bischöfe Bayerns - PER - Named person or family.\n",
      "Bischof Arn - PER - Named person or family.\n"
     ]
    }
   ],
   "metadata": {}
  },
  {
   "cell_type": "markdown",
   "source": [
    "Training a spacy transformer model results in a better performance than spacy tok2vec model. This model was not checked in to the repository because of its size (440 MB in comparison to 4,5 MB by tok2vec model). "
   ],
   "metadata": {}
  }
 ],
 "metadata": {
  "orig_nbformat": 4,
  "language_info": {
   "name": "python",
   "version": "3.8.10",
   "mimetype": "text/x-python",
   "codemirror_mode": {
    "name": "ipython",
    "version": 3
   },
   "pygments_lexer": "ipython3",
   "nbconvert_exporter": "python",
   "file_extension": ".py"
  },
  "kernelspec": {
   "name": "python3",
   "display_name": "Python 3.8.10 64-bit ('tf': conda)"
  },
  "interpreter": {
   "hash": "77d34b1f8f1cb9a0225d489cd485f7b75aabc61de4891e9a71b2684566ce4ecd"
  }
 },
 "nbformat": 4,
 "nbformat_minor": 2
}